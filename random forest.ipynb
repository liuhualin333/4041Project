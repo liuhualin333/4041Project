{
 "cells": [
  {
   "cell_type": "code",
   "execution_count": 1,
   "metadata": {},
   "outputs": [],
   "source": [
    "import numpy as np\n",
    "import pandas as pd\n",
    "from sklearn.model_selection import StratifiedKFold\n",
    "from sklearn.model_selection import train_test_split\n",
    "from sklearn.ensemble import RandomForestClassifier\n",
    "from sklearn.model_selection import GridSearchCV\n",
    "from sklearn.metrics import accuracy_score, roc_auc_score, make_scorer\n",
    "\n",
    "from sklearn.metrics import matthews_corrcoef\n",
    "from collections import Counter\n",
    "from imblearn.under_sampling import RandomUnderSampler\n",
    "\n",
    "\n",
    "\n",
    "import matplotlib.pyplot as plt\n",
    "%matplotlib inline"
   ]
  },
  {
   "cell_type": "markdown",
   "metadata": {},
   "source": [
    "    0. clf -> essembler: xgboost, random forest, rgb, nn, svm\n",
    "    1. downsampling / normalization for GD\n",
    "        extract same number of 0 and 1 \n",
    "    2. cross_validation for model selection\n",
    "        fine-tune hyper parameter\n",
    "        set of features\n",
    "3. feature ranking\n",
    "    rfe\n"
   ]
  },
  {
   "cell_type": "markdown",
   "metadata": {},
   "source": [
    "# feature rank for raw numeric data"
   ]
  },
  {
   "cell_type": "code",
   "execution_count": 2,
   "metadata": {},
   "outputs": [
    {
     "name": "stdout",
     "output_type": "stream",
     "text": [
      "[(0.0, 1118039), (1.0, 6520)]\n",
      "[(0.0, 58829), (1.0, 359)]\n",
      "CPU times: user 1min 47s, sys: 2.6 s, total: 1min 50s\n",
      "Wall time: 1min 50s\n"
     ]
    }
   ],
   "source": [
    "chunk_size = 100000\n",
    "\n",
    "train_raw_numeric_dir = './Raw/train_numeric.csv'\n",
    "train_count_dup_dir = './Numeric/train_dup_int.csv'\n",
    "train_datetime_dir = './Datetime/datetime_train.csv'\n",
    "train_faron_dir = './faron_data/faron_feat_train.csv'\n",
    "\n",
    "\n",
    "y = pd.read_csv(train_raw_numeric_dir, usecols=[0, 969], dtype=np.float32)\n",
    "#.loc[X.index].values.ravel()\n",
    "tr_x, te_x, tr_y, te_y = train_test_split(y['Id'], y['Response'].values, test_size=0.05, random_state=42)\n",
    "\n",
    "print(sorted(Counter(tr_y).items()))\n",
    "print(sorted(Counter(te_y).items()))\n",
    "\n",
    "sample_index = te_x.values.ravel()\n",
    "chunk1 = pd.read_csv(train_raw_numeric_dir, chunksize=chunk_size, dtype=np.float32,\n",
    "                     usecols=list(range(969)))\n",
    "\n",
    "    \n",
    "%time X = pd.concat([chunk.loc[chunk['Id'].isin(sample_index)] for chunk in chunk1])\n",
    "X = X.set_index('Id')\n"
   ]
  },
  {
   "cell_type": "code",
   "execution_count": 3,
   "metadata": {},
   "outputs": [
    {
     "data": {
      "text/plain": [
       "RandomForestClassifier(bootstrap=True, class_weight=None, criterion='gini',\n",
       "            max_depth=None, max_features='auto', max_leaf_nodes=None,\n",
       "            min_impurity_decrease=0.0, min_impurity_split=None,\n",
       "            min_samples_leaf=1, min_samples_split=150,\n",
       "            min_weight_fraction_leaf=0.0, n_estimators=325, n_jobs=-1,\n",
       "            oob_score=True, random_state=42, verbose=0, warm_start=False)"
      ]
     },
     "execution_count": 3,
     "metadata": {},
     "output_type": "execute_result"
    }
   ],
   "source": [
    "X = X.fillna(X.mean())\n",
    "X = X.values\n",
    "\n",
    "rf_clf = RandomForestClassifier(n_estimators=325, min_samples_split=150, \n",
    "                                n_jobs=-1, oob_score=True, random_state=42)\n",
    "rf_clf.fit(X, te_y)"
   ]
  },
  {
   "cell_type": "code",
   "execution_count": 4,
   "metadata": {},
   "outputs": [
    {
     "data": {
      "text/plain": [
       "(array([597., 141.,  53.,  10.,  13.,   5.,   3.,   2.,   1.,   2.]),\n",
       " array([2.96087526e-09, 1.50541166e-03, 3.01082036e-03, 4.51622906e-03,\n",
       "        6.02163776e-03, 7.52704646e-03, 9.03245516e-03, 1.05378639e-02,\n",
       "        1.20432726e-02, 1.35486813e-02, 1.50540900e-02]),\n",
       " <a list of 10 Patch objects>)"
      ]
     },
     "execution_count": 4,
     "metadata": {},
     "output_type": "execute_result"
    },
    {
     "data": {
      "image/png": "[encoded data removed]",
      "text/plain": [
       "<matplotlib.figure.Figure at 0x7f27bc427f98>"
      ]
     },
     "metadata": {},
     "output_type": "display_data"
    }
   ],
   "source": [
    "plt.hist(rf_clf.feature_importances_[rf_clf.feature_importances_>0])"
   ]
  },
  {
   "cell_type": "code",
   "execution_count": 5,
   "metadata": {},
   "outputs": [
    {
     "name": "stdout",
     "output_type": "stream",
     "text": [
      "(59188, 968) (59188,)\n"
     ]
    }
   ],
   "source": [
    "print(X.shape, te_y.shape)\n"
   ]
  },
  {
   "cell_type": "code",
   "execution_count": 6,
   "metadata": {},
   "outputs": [
    {
     "name": "stdout",
     "output_type": "stream",
     "text": [
      "(89,)\n"
     ]
    }
   ],
   "source": [
    "impt_idx = np.where(rf_clf.feature_importances_>0.003)[0]\n",
    "print(impt_idx.shape)"
   ]
  },
  {
   "cell_type": "markdown",
   "metadata": {},
   "source": [
    "# Read numeric dataset based one rank"
   ]
  },
  {
   "cell_type": "code",
   "execution_count": 8,
   "metadata": {},
   "outputs": [
    {
     "name": "stderr",
     "output_type": "stream",
     "text": [
      "/home/wangxt/miniconda3/envs/tf14c36/lib/python3.6/site-packages/numpy/lib/arraysetops.py:466: FutureWarning: elementwise comparison failed; returning scalar instead, but in the future will perform elementwise comparison\n",
      "  mask |= (ar1 == a)\n"
     ]
    },
    {
     "name": "stdout",
     "output_type": "stream",
     "text": [
      "(1183747, 206) (1183747,)\n",
      "[(0.0, 1176868), (1.0, 6879)]\n"
     ]
    }
   ],
   "source": [
    "X = pd.concat([\n",
    "    pd.read_csv(train_datetime_dir, index_col=0, dtype=np.float32),\n",
    "    pd.read_csv(train_count_dup_dir, index_col=0, dtype=np.float32),\n",
    "    #pd.read_csv(train_faron_dir, index_col=0, dtype=np.float32, usecols=[1,4,5,6,7]),\n",
    "    pd.read_csv(train_raw_numeric_dir, index_col=0, dtype=np.float32,\n",
    "               usecols=np.concatenate([[0], impt_idx+1]))\n",
    "], axis=1)\n",
    "\n",
    "\n",
    "y = pd.read_csv(train_raw_numeric_dir, index_col=0, dtype=np.float32, usecols=[0,969]).values.ravel()\n",
    "\n",
    "print(X.shape, y.shape)\n",
    "\n",
    "X = X.fillna(X.mean())\n",
    "X = X.values\n",
    "\n",
    "#%time print(sorted(Counter(y).items()))\n",
    "print(sorted(Counter(y).items()))"
   ]
  },
  {
   "cell_type": "code",
   "execution_count": 10,
   "metadata": {
    "scrolled": true
   },
   "outputs": [
    {
     "name": "stdout",
     "output_type": "stream",
     "text": [
      "Fitting 2 folds for each of 9 candidates, totalling 18 fits\n",
      "[CV] min_samples_split=100, n_estimators=325 .........................\n",
      "[CV] min_samples_split=100, n_estimators=350 .........................\n",
      "[CV] min_samples_split=100, n_estimators=300 .........................\n",
      "[CV] min_samples_split=100, n_estimators=325 .........................\n",
      "[CV] min_samples_split=100, n_estimators=300 .........................\n",
      "[CV] min_samples_split=100, n_estimators=350 .........................\n",
      "[CV] min_samples_split=150, n_estimators=300 .........................\n",
      "[CV] min_samples_split=150, n_estimators=300 .........................\n",
      "[CV]  min_samples_split=150, n_estimators=300, mcc=0.36055604892518933, total=  19.9s\n",
      "[CV] min_samples_split=150, n_estimators=325 .........................\n",
      "[CV]  min_samples_split=100, n_estimators=300, mcc=0.3645841723780613, total=  20.0s\n",
      "[CV] min_samples_split=150, n_estimators=325 .........................\n",
      "[CV]  min_samples_split=100, n_estimators=300, mcc=0.3308344360687185, total=  20.4s\n",
      "[CV] min_samples_split=150, n_estimators=350 .........................\n",
      "[CV]  min_samples_split=150, n_estimators=300, mcc=0.3314824146734087, total=  20.4s\n",
      "[CV] min_samples_split=150, n_estimators=350 .........................\n",
      "[CV]  min_samples_split=100, n_estimators=325, mcc=0.32955092267881625, total=  21.3s\n",
      "[CV] min_samples_split=200, n_estimators=300 .........................\n",
      "[CV]  min_samples_split=100, n_estimators=350, mcc=0.36657128145814977, total=  21.2s\n",
      "[CV] min_samples_split=200, n_estimators=300 .........................\n",
      "[CV]  min_samples_split=100, n_estimators=325, mcc=0.3664141517949988, total=  21.3s\n",
      "[CV] min_samples_split=200, n_estimators=325 .........................\n",
      "[CV]  min_samples_split=100, n_estimators=350, mcc=0.3289110305796081, total=  22.2s\n",
      "[CV] min_samples_split=200, n_estimators=325 .........................\n",
      "[CV]  min_samples_split=200, n_estimators=325, mcc=0.35452220804043466, total=  16.6s\n",
      "[CV] min_samples_split=200, n_estimators=350 .........................\n",
      "[CV]  min_samples_split=200, n_estimators=300, mcc=0.3542202868584092, total=  17.7s\n",
      "[CV] min_samples_split=200, n_estimators=350 .........................\n",
      "[CV]  min_samples_split=200, n_estimators=300, mcc=0.3177705052856102, total=  17.9s\n"
     ]
    },
    {
     "name": "stderr",
     "output_type": "stream",
     "text": [
      "[Parallel(n_jobs=-1)]: Done  10 out of  18 | elapsed:   42.6s remaining:   34.1s\n"
     ]
    },
    {
     "name": "stdout",
     "output_type": "stream",
     "text": [
      "[CV]  min_samples_split=150, n_estimators=325, mcc=0.3287973041410779, total=  18.8s\n",
      "[CV]  min_samples_split=150, n_estimators=325, mcc=0.35782279037973747, total=  20.1s\n",
      "[CV]  min_samples_split=150, n_estimators=350, mcc=0.35983572098761796, total=  20.0s\n",
      "[CV]  min_samples_split=150, n_estimators=350, mcc=0.3273332362458413, total=  20.3s\n",
      "[CV]  min_samples_split=200, n_estimators=325, mcc=0.32182681596981744, total=  19.4s\n",
      "[CV]  min_samples_split=200, n_estimators=350, mcc=0.3570812964952302, total=   6.9s\n",
      "[CV]  min_samples_split=200, n_estimators=350, mcc=0.3210017258072155, total=   6.7s\n"
     ]
    },
    {
     "name": "stderr",
     "output_type": "stream",
     "text": [
      "[Parallel(n_jobs=-1)]: Done  18 out of  18 | elapsed:   49.7s finished\n"
     ]
    },
    {
     "name": "stdout",
     "output_type": "stream",
     "text": [
      "{'min_samples_split': 100, 'n_estimators': 325}\n"
     ]
    }
   ],
   "source": [
    "cc = RandomUnderSampler(random_state=42) \n",
    "X_resampled, y_resampled = cc.fit_sample(X, y)\n",
    "param_grid = {\n",
    "    'n_estimators': [300, 325, 350],\n",
    "    'min_samples_split': [100, 150, 200],\n",
    "}\n",
    "scoring = {'mcc': make_scorer(matthews_corrcoef)}\n",
    "\n",
    "rfc = RandomForestClassifier(n_jobs=-1, oob_score=True, random_state=42)\n",
    "CV_rfc = GridSearchCV(estimator=rfc, param_grid=param_grid, scoring=scoring, cv=2, verbose=3, n_jobs=-1, refit='mcc')\n",
    "CV_rfc.fit(X_resampled, y_resampled)\n",
    "\n",
    "print(CV_rfc.best_params_)"
   ]
  },
  {
   "cell_type": "markdown",
   "metadata": {},
   "source": [
    "# train test split\n",
    "X_train, X_test, y_train, y_test = train_test_split(X, y, test_size=0.2, random_state=42)\n",
    "\n",
    "cc = RandomUnderSampler(random_state=42)\n",
    "X_resampled, y_resampled = cc.fit_sample(X_train, y_train)\n",
    "\n",
    "rfc = RandomForestClassifier(n_estimators=200, min_samples_split=50,\n",
    "                             n_jobs=-1, random_state=42)\n",
    "preds = np.ones(y_test.shape[0])\n",
    "preds = rfc.fit(X_resampled, y_resampled).predict_proba(X_test)[:,1]\n",
    "print(roc_auc_score(y_test, preds))\n",
    "\n",
    "thresholds = np.linspace(0.01, 0.99, 50)\n",
    "mcc = np.array([matthews_corrcoef(y_test, preds>thr) for thr in thresholds])\n",
    "plt.plot(thresholds, mcc)\n",
    "best_threshold = thresholds[mcc.argmax()]\n",
    "print('mcc: ', mcc.max())"
   ]
  },
  {
   "cell_type": "markdown",
   "metadata": {},
   "source": [
    "\n",
    "#print(sorted(Counter(y_train).items()))\n",
    "#print(sorted(Counter(y_test).items()))\n",
    "cc = RandomUnderSampler(random_state=42)\n",
    "X_resampled, y_resampled = cc.fit_sample(X, y)\n",
    "\n",
    "print(sorted(Counter(y_resampled).items()))"
   ]
  },
  {
   "cell_type": "code",
   "execution_count": 11,
   "metadata": {},
   "outputs": [
    {
     "name": "stdout",
     "output_type": "stream",
     "text": [
      "[(0.0, 784578), (1.0, 4586)]\n",
      "[(0.0, 784578), (1.0, 4586)]\n",
      "start cv fold  0\n",
      "fold 0, ROC AUC: 0.760\n",
      "[(0.0, 784579), (1.0, 4586)]\n",
      "[(0.0, 784579), (1.0, 4586)]\n",
      "start cv fold  1\n",
      "fold 1, ROC AUC: 0.746\n",
      "[(0.0, 784579), (1.0, 4586)]\n",
      "[(0.0, 784579), (1.0, 4586)]\n",
      "start cv fold  2\n",
      "fold 2, ROC AUC: 0.745\n",
      "0.7499584252083781\n"
     ]
    },
    {
     "name": "stderr",
     "output_type": "stream",
     "text": [
      "/home/wangxt/miniconda3/envs/tf14c36/lib/python3.6/site-packages/sklearn/metrics/classification.py:538: RuntimeWarning: invalid value encountered in double_scalars\n",
      "  mcc = cov_ytyp / np.sqrt(cov_ytyt * cov_ypyp)\n"
     ]
    },
    {
     "name": "stdout",
     "output_type": "stream",
     "text": [
      "mcc:  0.152170890856433\n"
     ]
    },
    {
     "data": {
      "image/png": "[encoded data removed]",
      "text/plain": [
       "<matplotlib.figure.Figure at 0x7f27bc3b56d8>"
      ]
     },
     "metadata": {},
     "output_type": "display_data"
    }
   ],
   "source": [
    "# cv downsampling\n",
    "\n",
    "skf = StratifiedKFold(n_splits=3)\n",
    "preds = np.ones(y.shape[0])\n",
    "rfc = RandomForestClassifier(n_estimators=325, min_samples_split=100,\n",
    "                             n_jobs=-1, oob_score=True, random_state=42)\n",
    "\n",
    "\n",
    "cnt = 0\n",
    "for train, test in skf.split(X, y):\n",
    "    print(sorted(Counter(y[train]).items()))\n",
    "    X_resampled, y_resampled = cc.fit_sample(X[train], y[train])\n",
    "    print(sorted(Counter(y[train]).items()))\n",
    "    print('start cv fold ', cnt)\n",
    "    preds[test] = rfc.fit(X_resampled, y_resampled).predict_proba(X[test])[:,1]\n",
    "    print(\"fold {}, ROC AUC: {:.3f}\".format(cnt, roc_auc_score(y[test], preds[test])))\n",
    "    cnt+=1\n",
    "    \n",
    "print(roc_auc_score(y, preds))\n",
    "thresholds = np.linspace(0.01, 0.99, 50)\n",
    "mcc = np.array([matthews_corrcoef(y, preds>thr) for thr in thresholds])\n",
    "plt.plot(thresholds, mcc)\n",
    "best_threshold = thresholds[mcc.argmax()]\n",
    "print('mcc: ', mcc.max())"
   ]
  },
  {
   "cell_type": "code",
   "execution_count": 12,
   "metadata": {},
   "outputs": [
    {
     "name": "stdout",
     "output_type": "stream",
     "text": [
      "[(0.0, 784578), (1.0, 4586)]\n",
      "[(0.0, 784578), (1.0, 4586)]\n",
      "start cv fold  0\n",
      "fold 0, ROC AUC: 0.766\n",
      "[(0.0, 784579), (1.0, 4586)]\n",
      "[(0.0, 784579), (1.0, 4586)]\n",
      "start cv fold  1\n",
      "fold 1, ROC AUC: 0.751\n",
      "[(0.0, 784579), (1.0, 4586)]\n",
      "[(0.0, 784579), (1.0, 4586)]\n",
      "start cv fold  2\n",
      "fold 2, ROC AUC: 0.745\n",
      "0.7539316932325084\n"
     ]
    },
    {
     "name": "stderr",
     "output_type": "stream",
     "text": [
      "/home/wangxt/miniconda3/envs/tf14c36/lib/python3.6/site-packages/sklearn/metrics/classification.py:538: RuntimeWarning: invalid value encountered in double_scalars\n",
      "  mcc = cov_ytyp / np.sqrt(cov_ytyt * cov_ypyp)\n"
     ]
    },
    {
     "name": "stdout",
     "output_type": "stream",
     "text": [
      "mcc:  0.16982592860961662\n"
     ]
    },
    {
     "data": {
      "image/png": "[encoded data removed]",
      "text/plain": [
       "<matplotlib.figure.Figure at 0x7f27bc31f080>"
      ]
     },
     "metadata": {},
     "output_type": "display_data"
    }
   ],
   "source": [
    "# cv without downsampling\n",
    "\n",
    "skf = StratifiedKFold(n_splits=3)\n",
    "preds = np.ones(y.shape[0])\n",
    "rfc = RandomForestClassifier(n_estimators=325, min_samples_split=100,\n",
    "                             n_jobs=-1, oob_score=True, random_state=42)\n",
    "\n",
    "\n",
    "cnt = 0\n",
    "for train, test in skf.split(X, y):\n",
    "    print(sorted(Counter(y[train]).items()))\n",
    "    X_resampled, y_resampled = X[train], y[train]\n",
    "    print(sorted(Counter(y[train]).items()))\n",
    "    print('start cv fold ', cnt)\n",
    "    preds[test] = rfc.fit(X_resampled, y_resampled).predict_proba(X[test])[:,1]\n",
    "    print(\"fold {}, ROC AUC: {:.3f}\".format(cnt, roc_auc_score(y[test], preds[test])))\n",
    "    cnt+=1\n",
    "    \n",
    "print(roc_auc_score(y, preds))\n",
    "thresholds = np.linspace(0.01, 0.99, 50)\n",
    "mcc = np.array([matthews_corrcoef(y, preds>thr) for thr in thresholds])\n",
    "plt.plot(thresholds, mcc)\n",
    "best_threshold = thresholds[mcc.argmax()]\n",
    "print('mcc: ', mcc.max())"
   ]
  }
 ],
 "metadata": {
  "kernelspec": {
   "display_name": "tfpy3",
   "language": "python",
   "name": "tfpy3"
  },
  "language_info": {
   "codemirror_mode": {
    "name": "ipython",
    "version": 3
   },
   "file_extension": ".py",
   "mimetype": "text/x-python",
   "name": "python",
   "nbconvert_exporter": "python",
   "pygments_lexer": "ipython3",
   "version": "3.6.4"
  }
 },
 "nbformat": 4,
 "nbformat_minor": 2
}
